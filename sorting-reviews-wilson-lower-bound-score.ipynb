{
 "cells": [
  {
   "cell_type": "code",
   "execution_count": null,
   "id": "b788df58",
   "metadata": {
    "papermill": {
     "duration": 0.010798,
     "end_time": "2023-06-19T09:33:54.636274",
     "exception": false,
     "start_time": "2023-06-19T09:33:54.625476",
     "status": "completed"
    },
    "tags": []
   },
   "outputs": [],
   "source": []
  },
  {
   "cell_type": "markdown",
   "id": "dc23b8ed",
   "metadata": {
    "papermill": {
     "duration": 0.007303,
     "end_time": "2023-06-19T09:33:54.651347",
     "exception": false,
     "start_time": "2023-06-19T09:33:54.644044",
     "status": "completed"
    },
    "tags": []
   },
   "source": [
    "# Information\n",
    "- In this study, we will try to learn some of the methods used in ranking comments. In this way, we will have more detailed information about these methods.\n",
    "\n",
    "- **Up-Down Diff Score** = (up ratings) − (down ratings)\n",
    "- **Score** = Average rating = (up ratings) / (all ratings)\n",
    "- **Wilson Lower Bound Score**"
   ]
  },
  {
   "cell_type": "code",
   "execution_count": 1,
   "id": "d3179765",
   "metadata": {
    "execution": {
     "iopub.execute_input": "2023-06-19T09:33:54.670359Z",
     "iopub.status.busy": "2023-06-19T09:33:54.669422Z",
     "iopub.status.idle": "2023-06-19T09:33:55.867648Z",
     "shell.execute_reply": "2023-06-19T09:33:55.866176Z"
    },
    "papermill": {
     "duration": 1.210316,
     "end_time": "2023-06-19T09:33:55.869952",
     "exception": false,
     "start_time": "2023-06-19T09:33:54.659636",
     "status": "completed"
    },
    "tags": []
   },
   "outputs": [],
   "source": [
    "# import Required Libraries\n",
    "\n",
    "import pandas as pd\n",
    "import math\n",
    "import scipy.stats as st"
   ]
  },
  {
   "cell_type": "code",
   "execution_count": 2,
   "id": "e5d82dfa",
   "metadata": {
    "execution": {
     "iopub.execute_input": "2023-06-19T09:33:55.887719Z",
     "iopub.status.busy": "2023-06-19T09:33:55.886654Z",
     "iopub.status.idle": "2023-06-19T09:33:55.892123Z",
     "shell.execute_reply": "2023-06-19T09:33:55.891341Z"
    },
    "papermill": {
     "duration": 0.01665,
     "end_time": "2023-06-19T09:33:55.894416",
     "exception": false,
     "start_time": "2023-06-19T09:33:55.877766",
     "status": "completed"
    },
    "tags": []
   },
   "outputs": [],
   "source": [
    "# Adjusting Row Column Settings\n",
    "\n",
    "pd.set_option('display.max_columns', None)\n",
    "pd.set_option('display.expand_frame_repr', False)\n",
    "pd.set_option('display.float_format', lambda x: '%.5f' % x)"
   ]
  },
  {
   "cell_type": "markdown",
   "id": "577637f9",
   "metadata": {
    "papermill": {
     "duration": 0.007561,
     "end_time": "2023-06-19T09:33:55.910068",
     "exception": false,
     "start_time": "2023-06-19T09:33:55.902507",
     "status": "completed"
    },
    "tags": []
   },
   "source": [
    "# Up-Down Diff Score = (up ratings) − (down ratings)\n",
    "- In this method, we will only use the difference between the comments made. So we used the difference between likes and dislikes."
   ]
  },
  {
   "cell_type": "code",
   "execution_count": 3,
   "id": "3bd53db1",
   "metadata": {
    "execution": {
     "iopub.execute_input": "2023-06-19T09:33:55.927665Z",
     "iopub.status.busy": "2023-06-19T09:33:55.927005Z",
     "iopub.status.idle": "2023-06-19T09:33:55.930734Z",
     "shell.execute_reply": "2023-06-19T09:33:55.930137Z"
    },
    "papermill": {
     "duration": 0.014474,
     "end_time": "2023-06-19T09:33:55.932472",
     "exception": false,
     "start_time": "2023-06-19T09:33:55.917998",
     "status": "completed"
    },
    "tags": []
   },
   "outputs": [],
   "source": [
    "# Review 1: 600 up 400 down total 1000\n",
    "# Review 2: 5500 up 4500 down total 10000"
   ]
  },
  {
   "cell_type": "code",
   "execution_count": 4,
   "id": "54795ec5",
   "metadata": {
    "execution": {
     "iopub.execute_input": "2023-06-19T09:33:55.949941Z",
     "iopub.status.busy": "2023-06-19T09:33:55.949424Z",
     "iopub.status.idle": "2023-06-19T09:33:55.953698Z",
     "shell.execute_reply": "2023-06-19T09:33:55.952396Z"
    },
    "papermill": {
     "duration": 0.015858,
     "end_time": "2023-06-19T09:33:55.956240",
     "exception": false,
     "start_time": "2023-06-19T09:33:55.940382",
     "status": "completed"
    },
    "tags": []
   },
   "outputs": [],
   "source": [
    "def score_up_down_diff(up, down):\n",
    "    return up - down"
   ]
  },
  {
   "cell_type": "code",
   "execution_count": 5,
   "id": "57ebcc87",
   "metadata": {
    "execution": {
     "iopub.execute_input": "2023-06-19T09:33:55.973546Z",
     "iopub.status.busy": "2023-06-19T09:33:55.973192Z",
     "iopub.status.idle": "2023-06-19T09:33:55.980478Z",
     "shell.execute_reply": "2023-06-19T09:33:55.979167Z"
    },
    "papermill": {
     "duration": 0.018019,
     "end_time": "2023-06-19T09:33:55.982288",
     "exception": false,
     "start_time": "2023-06-19T09:33:55.964269",
     "status": "completed"
    },
    "tags": []
   },
   "outputs": [
    {
     "data": {
      "text/plain": [
       "200"
      ]
     },
     "execution_count": 5,
     "metadata": {},
     "output_type": "execute_result"
    }
   ],
   "source": [
    "# Review 1 Score:\n",
    "score_up_down_diff(600, 400)"
   ]
  },
  {
   "cell_type": "code",
   "execution_count": 6,
   "id": "0e131750",
   "metadata": {
    "execution": {
     "iopub.execute_input": "2023-06-19T09:33:56.000081Z",
     "iopub.status.busy": "2023-06-19T09:33:55.998913Z",
     "iopub.status.idle": "2023-06-19T09:33:56.004593Z",
     "shell.execute_reply": "2023-06-19T09:33:56.003962Z"
    },
    "papermill": {
     "duration": 0.016304,
     "end_time": "2023-06-19T09:33:56.006476",
     "exception": false,
     "start_time": "2023-06-19T09:33:55.990172",
     "status": "completed"
    },
    "tags": []
   },
   "outputs": [
    {
     "data": {
      "text/plain": [
       "1000"
      ]
     },
     "execution_count": 6,
     "metadata": {},
     "output_type": "execute_result"
    }
   ],
   "source": [
    "# Review 2 Score\n",
    "score_up_down_diff(5500, 4500)"
   ]
  },
  {
   "cell_type": "code",
   "execution_count": 7,
   "id": "fc18502f",
   "metadata": {
    "execution": {
     "iopub.execute_input": "2023-06-19T09:33:56.025525Z",
     "iopub.status.busy": "2023-06-19T09:33:56.024161Z",
     "iopub.status.idle": "2023-06-19T09:33:56.029864Z",
     "shell.execute_reply": "2023-06-19T09:33:56.028819Z"
    },
    "papermill": {
     "duration": 0.017522,
     "end_time": "2023-06-19T09:33:56.032373",
     "exception": false,
     "start_time": "2023-06-19T09:33:56.014851",
     "status": "completed"
    },
    "tags": []
   },
   "outputs": [],
   "source": [
    "# Note: The method we used here captured the number of comments but not the ratio information. Therefore, it contains bias."
   ]
  },
  {
   "cell_type": "markdown",
   "id": "d199132b",
   "metadata": {
    "papermill": {
     "duration": 0.007918,
     "end_time": "2023-06-19T09:33:56.048735",
     "exception": false,
     "start_time": "2023-06-19T09:33:56.040817",
     "status": "completed"
    },
    "tags": []
   },
   "source": [
    "# Score = Average rating = (up ratings) / (all ratings)\n",
    "- In this method, we will only use the rate information of comments. In other words, we used the ratio of likes and dislikes."
   ]
  },
  {
   "cell_type": "code",
   "execution_count": 8,
   "id": "fb684dfd",
   "metadata": {
    "execution": {
     "iopub.execute_input": "2023-06-19T09:33:56.067017Z",
     "iopub.status.busy": "2023-06-19T09:33:56.066689Z",
     "iopub.status.idle": "2023-06-19T09:33:56.071327Z",
     "shell.execute_reply": "2023-06-19T09:33:56.069690Z"
    },
    "papermill": {
     "duration": 0.016323,
     "end_time": "2023-06-19T09:33:56.073338",
     "exception": false,
     "start_time": "2023-06-19T09:33:56.057015",
     "status": "completed"
    },
    "tags": []
   },
   "outputs": [],
   "source": [
    "# Review 1: 600 up 400 down total 1000\n",
    "# Review 2: 5500 up 4500 down total 10000"
   ]
  },
  {
   "cell_type": "code",
   "execution_count": 9,
   "id": "3f4be80c",
   "metadata": {
    "execution": {
     "iopub.execute_input": "2023-06-19T09:33:56.091186Z",
     "iopub.status.busy": "2023-06-19T09:33:56.090802Z",
     "iopub.status.idle": "2023-06-19T09:33:56.096081Z",
     "shell.execute_reply": "2023-06-19T09:33:56.094875Z"
    },
    "papermill": {
     "duration": 0.016396,
     "end_time": "2023-06-19T09:33:56.097931",
     "exception": false,
     "start_time": "2023-06-19T09:33:56.081535",
     "status": "completed"
    },
    "tags": []
   },
   "outputs": [],
   "source": [
    "def score_average_rating(up, down):\n",
    "    if up + down == 0:\n",
    "        return 0\n",
    "    return up / (up + down)"
   ]
  },
  {
   "cell_type": "code",
   "execution_count": 10,
   "id": "cbd04ce3",
   "metadata": {
    "execution": {
     "iopub.execute_input": "2023-06-19T09:33:56.116147Z",
     "iopub.status.busy": "2023-06-19T09:33:56.115739Z",
     "iopub.status.idle": "2023-06-19T09:33:56.121524Z",
     "shell.execute_reply": "2023-06-19T09:33:56.120245Z"
    },
    "papermill": {
     "duration": 0.017515,
     "end_time": "2023-06-19T09:33:56.123497",
     "exception": false,
     "start_time": "2023-06-19T09:33:56.105982",
     "status": "completed"
    },
    "tags": []
   },
   "outputs": [
    {
     "data": {
      "text/plain": [
       "0.6"
      ]
     },
     "execution_count": 10,
     "metadata": {},
     "output_type": "execute_result"
    }
   ],
   "source": [
    "score_average_rating(600, 400)"
   ]
  },
  {
   "cell_type": "code",
   "execution_count": 11,
   "id": "31b1d095",
   "metadata": {
    "execution": {
     "iopub.execute_input": "2023-06-19T09:33:56.141424Z",
     "iopub.status.busy": "2023-06-19T09:33:56.141062Z",
     "iopub.status.idle": "2023-06-19T09:33:56.147255Z",
     "shell.execute_reply": "2023-06-19T09:33:56.145606Z"
    },
    "papermill": {
     "duration": 0.017338,
     "end_time": "2023-06-19T09:33:56.149164",
     "exception": false,
     "start_time": "2023-06-19T09:33:56.131826",
     "status": "completed"
    },
    "tags": []
   },
   "outputs": [
    {
     "data": {
      "text/plain": [
       "0.55"
      ]
     },
     "execution_count": 11,
     "metadata": {},
     "output_type": "execute_result"
    }
   ],
   "source": [
    "score_average_rating(5500, 4500)"
   ]
  },
  {
   "cell_type": "code",
   "execution_count": 12,
   "id": "be54f136",
   "metadata": {
    "execution": {
     "iopub.execute_input": "2023-06-19T09:33:56.167198Z",
     "iopub.status.busy": "2023-06-19T09:33:56.166754Z",
     "iopub.status.idle": "2023-06-19T09:33:56.171242Z",
     "shell.execute_reply": "2023-06-19T09:33:56.170159Z"
    },
    "papermill": {
     "duration": 0.015852,
     "end_time": "2023-06-19T09:33:56.173361",
     "exception": false,
     "start_time": "2023-06-19T09:33:56.157509",
     "status": "completed"
    },
    "tags": []
   },
   "outputs": [],
   "source": [
    "# Review 3: 2 up 0 down total 2\n",
    "# Review 4: 100 up 1 down total 101"
   ]
  },
  {
   "cell_type": "code",
   "execution_count": 13,
   "id": "9dccf38a",
   "metadata": {
    "execution": {
     "iopub.execute_input": "2023-06-19T09:33:56.191297Z",
     "iopub.status.busy": "2023-06-19T09:33:56.190941Z",
     "iopub.status.idle": "2023-06-19T09:33:56.198176Z",
     "shell.execute_reply": "2023-06-19T09:33:56.196835Z"
    },
    "papermill": {
     "duration": 0.018898,
     "end_time": "2023-06-19T09:33:56.200559",
     "exception": false,
     "start_time": "2023-06-19T09:33:56.181661",
     "status": "completed"
    },
    "tags": []
   },
   "outputs": [
    {
     "data": {
      "text/plain": [
       "1.0"
      ]
     },
     "execution_count": 13,
     "metadata": {},
     "output_type": "execute_result"
    }
   ],
   "source": [
    "score_average_rating(2, 0)"
   ]
  },
  {
   "cell_type": "code",
   "execution_count": 14,
   "id": "be13fd4d",
   "metadata": {
    "execution": {
     "iopub.execute_input": "2023-06-19T09:33:56.218790Z",
     "iopub.status.busy": "2023-06-19T09:33:56.218436Z",
     "iopub.status.idle": "2023-06-19T09:33:56.224487Z",
     "shell.execute_reply": "2023-06-19T09:33:56.223180Z"
    },
    "papermill": {
     "duration": 0.017406,
     "end_time": "2023-06-19T09:33:56.226362",
     "exception": false,
     "start_time": "2023-06-19T09:33:56.208956",
     "status": "completed"
    },
    "tags": []
   },
   "outputs": [
    {
     "data": {
      "text/plain": [
       "0.9900990099009901"
      ]
     },
     "execution_count": 14,
     "metadata": {},
     "output_type": "execute_result"
    }
   ],
   "source": [
    "score_average_rating(100, 1)"
   ]
  },
  {
   "cell_type": "code",
   "execution_count": 15,
   "id": "7bb85a05",
   "metadata": {
    "execution": {
     "iopub.execute_input": "2023-06-19T09:33:56.245234Z",
     "iopub.status.busy": "2023-06-19T09:33:56.244895Z",
     "iopub.status.idle": "2023-06-19T09:33:56.248390Z",
     "shell.execute_reply": "2023-06-19T09:33:56.247611Z"
    },
    "papermill": {
     "duration": 0.014754,
     "end_time": "2023-06-19T09:33:56.250085",
     "exception": false,
     "start_time": "2023-06-19T09:33:56.235331",
     "status": "completed"
    },
    "tags": []
   },
   "outputs": [],
   "source": [
    "# Note: The method we used here captured the number of comments, it also captured the rate information, but not the frequency information. \n",
    "# It didn't catch it. It is therefore biased."
   ]
  },
  {
   "cell_type": "markdown",
   "id": "b22915e7",
   "metadata": {
    "papermill": {
     "duration": 0.008008,
     "end_time": "2023-06-19T09:33:56.266646",
     "exception": false,
     "start_time": "2023-06-19T09:33:56.258638",
     "status": "completed"
    },
    "tags": []
   },
   "source": [
    "# Wilson Lower Bound Score\n",
    "- This method allows us to score any item, product or review that contains binary interactions. It helps in this type of measurement problems.\n",
    "- It calculates a confidence interval for the Bernoulli parameter p. It takes the lower bound of this confidence interval as the WLB score."
   ]
  },
  {
   "cell_type": "code",
   "execution_count": 16,
   "id": "0bb178b6",
   "metadata": {
    "execution": {
     "iopub.execute_input": "2023-06-19T09:33:56.286195Z",
     "iopub.status.busy": "2023-06-19T09:33:56.285833Z",
     "iopub.status.idle": "2023-06-19T09:33:56.293788Z",
     "shell.execute_reply": "2023-06-19T09:33:56.292681Z"
    },
    "papermill": {
     "duration": 0.021235,
     "end_time": "2023-06-19T09:33:56.296163",
     "exception": false,
     "start_time": "2023-06-19T09:33:56.274928",
     "status": "completed"
    },
    "tags": []
   },
   "outputs": [],
   "source": [
    "def wilson_lower_bound(up, down, confidence=0.95):\n",
    "    \"\"\"\n",
    "    Calculate Wilson Lower Bound Score\n",
    "\n",
    "    - The lower limit of the confidence interval to be calculated for the Bernoulli parameter p is considered as the WLB score.\n",
    "    - The score to be calculated is used for product ranking.\n",
    "    - Not:\n",
    "    If the scores are between 1-5, 1-3 are marked as negative, 4-5 as positive and can be made bernoulli compatible.\n",
    "    This brings some problems with it. For this reason, it is necessary to make a Bayesian average rating.\n",
    "\n",
    "    Parameters\n",
    "    ----------\n",
    "    up: int\n",
    "        up count\n",
    "    down: int\n",
    "        down count\n",
    "    confidence: float\n",
    "        confidence\n",
    "\n",
    "    Returns\n",
    "    -------\n",
    "    wilson score: float\n",
    "\n",
    "    \"\"\"\n",
    "    n = up + down\n",
    "    if n == 0:\n",
    "        return 0\n",
    "    z = st.norm.ppf(1 - (1 - confidence) / 2)\n",
    "    phat = 1.0 * up / n\n",
    "    return (phat + z * z / (2 * n) - z * math.sqrt((phat * (1 - phat) + z * z / (4 * n)) / n)) / (1 + z * z / n)"
   ]
  },
  {
   "cell_type": "code",
   "execution_count": 17,
   "id": "85310058",
   "metadata": {
    "execution": {
     "iopub.execute_input": "2023-06-19T09:33:56.314879Z",
     "iopub.status.busy": "2023-06-19T09:33:56.314520Z",
     "iopub.status.idle": "2023-06-19T09:33:56.318900Z",
     "shell.execute_reply": "2023-06-19T09:33:56.317567Z"
    },
    "papermill": {
     "duration": 0.016944,
     "end_time": "2023-06-19T09:33:56.321689",
     "exception": false,
     "start_time": "2023-06-19T09:33:56.304745",
     "status": "completed"
    },
    "tags": []
   },
   "outputs": [],
   "source": [
    "# Note: We calculated the usefulness score of the comment, thus eliminating the problem of bias."
   ]
  },
  {
   "cell_type": "code",
   "execution_count": 18,
   "id": "6fe9364f",
   "metadata": {
    "execution": {
     "iopub.execute_input": "2023-06-19T09:33:56.341069Z",
     "iopub.status.busy": "2023-06-19T09:33:56.340750Z",
     "iopub.status.idle": "2023-06-19T09:33:56.349674Z",
     "shell.execute_reply": "2023-06-19T09:33:56.348770Z"
    },
    "papermill": {
     "duration": 0.020581,
     "end_time": "2023-06-19T09:33:56.351342",
     "exception": false,
     "start_time": "2023-06-19T09:33:56.330761",
     "status": "completed"
    },
    "tags": []
   },
   "outputs": [
    {
     "data": {
      "text/plain": [
       "3.341099972357286e-18"
      ]
     },
     "execution_count": 18,
     "metadata": {},
     "output_type": "execute_result"
    }
   ],
   "source": [
    "wilson_lower_bound(0, 100)"
   ]
  },
  {
   "cell_type": "code",
   "execution_count": 19,
   "id": "93d24863",
   "metadata": {
    "execution": {
     "iopub.execute_input": "2023-06-19T09:33:56.369910Z",
     "iopub.status.busy": "2023-06-19T09:33:56.369557Z",
     "iopub.status.idle": "2023-06-19T09:33:56.375703Z",
     "shell.execute_reply": "2023-06-19T09:33:56.374453Z"
    },
    "papermill": {
     "duration": 0.017499,
     "end_time": "2023-06-19T09:33:56.377412",
     "exception": false,
     "start_time": "2023-06-19T09:33:56.359913",
     "status": "completed"
    },
    "tags": []
   },
   "outputs": [
    {
     "data": {
      "text/plain": [
       "0"
      ]
     },
     "execution_count": 19,
     "metadata": {},
     "output_type": "execute_result"
    }
   ],
   "source": [
    "wilson_lower_bound(0, 0)"
   ]
  },
  {
   "cell_type": "code",
   "execution_count": 20,
   "id": "ae5976e9",
   "metadata": {
    "execution": {
     "iopub.execute_input": "2023-06-19T09:33:56.395732Z",
     "iopub.status.busy": "2023-06-19T09:33:56.395440Z",
     "iopub.status.idle": "2023-06-19T09:33:56.402488Z",
     "shell.execute_reply": "2023-06-19T09:33:56.401411Z"
    },
    "papermill": {
     "duration": 0.018235,
     "end_time": "2023-06-19T09:33:56.404188",
     "exception": false,
     "start_time": "2023-06-19T09:33:56.385953",
     "status": "completed"
    },
    "tags": []
   },
   "outputs": [
    {
     "data": {
      "text/plain": [
       "0.5940657058910772"
      ]
     },
     "execution_count": 20,
     "metadata": {},
     "output_type": "execute_result"
    }
   ],
   "source": [
    "wilson_lower_bound(78, 36)"
   ]
  },
  {
   "cell_type": "code",
   "execution_count": 21,
   "id": "b88d4631",
   "metadata": {
    "execution": {
     "iopub.execute_input": "2023-06-19T09:33:56.423077Z",
     "iopub.status.busy": "2023-06-19T09:33:56.422710Z",
     "iopub.status.idle": "2023-06-19T09:33:56.430345Z",
     "shell.execute_reply": "2023-06-19T09:33:56.428937Z"
    },
    "papermill": {
     "duration": 0.019833,
     "end_time": "2023-06-19T09:33:56.432571",
     "exception": false,
     "start_time": "2023-06-19T09:33:56.412738",
     "status": "completed"
    },
    "tags": []
   },
   "outputs": [
    {
     "data": {
      "text/plain": [
       "0.9460328420055449"
      ]
     },
     "execution_count": 21,
     "metadata": {},
     "output_type": "execute_result"
    }
   ],
   "source": [
    "wilson_lower_bound(100, 1)"
   ]
  },
  {
   "cell_type": "code",
   "execution_count": 22,
   "id": "5c60081c",
   "metadata": {
    "execution": {
     "iopub.execute_input": "2023-06-19T09:33:56.451842Z",
     "iopub.status.busy": "2023-06-19T09:33:56.451466Z",
     "iopub.status.idle": "2023-06-19T09:33:56.457469Z",
     "shell.execute_reply": "2023-06-19T09:33:56.456539Z"
    },
    "papermill": {
     "duration": 0.017602,
     "end_time": "2023-06-19T09:33:56.459084",
     "exception": false,
     "start_time": "2023-06-19T09:33:56.441482",
     "status": "completed"
    },
    "tags": []
   },
   "outputs": [
    {
     "data": {
      "text/plain": [
       "0.5402319557715324"
      ]
     },
     "execution_count": 22,
     "metadata": {},
     "output_type": "execute_result"
    }
   ],
   "source": [
    "wilson_lower_bound(5500, 4500)"
   ]
  },
  {
   "cell_type": "code",
   "execution_count": 23,
   "id": "bd2a06b2",
   "metadata": {
    "execution": {
     "iopub.execute_input": "2023-06-19T09:33:56.479031Z",
     "iopub.status.busy": "2023-06-19T09:33:56.478400Z",
     "iopub.status.idle": "2023-06-19T09:33:56.484911Z",
     "shell.execute_reply": "2023-06-19T09:33:56.483515Z"
    },
    "papermill": {
     "duration": 0.018667,
     "end_time": "2023-06-19T09:33:56.486849",
     "exception": false,
     "start_time": "2023-06-19T09:33:56.468182",
     "status": "completed"
    },
    "tags": []
   },
   "outputs": [
    {
     "data": {
      "text/plain": [
       "0.3423802275066531"
      ]
     },
     "execution_count": 23,
     "metadata": {},
     "output_type": "execute_result"
    }
   ],
   "source": [
    "wilson_lower_bound(2, 0)"
   ]
  },
  {
   "cell_type": "code",
   "execution_count": 24,
   "id": "f410a19f",
   "metadata": {
    "execution": {
     "iopub.execute_input": "2023-06-19T09:33:56.505903Z",
     "iopub.status.busy": "2023-06-19T09:33:56.505565Z",
     "iopub.status.idle": "2023-06-19T09:33:56.512067Z",
     "shell.execute_reply": "2023-06-19T09:33:56.510726Z"
    },
    "papermill": {
     "duration": 0.018683,
     "end_time": "2023-06-19T09:33:56.514483",
     "exception": false,
     "start_time": "2023-06-19T09:33:56.495800",
     "status": "completed"
    },
    "tags": []
   },
   "outputs": [
    {
     "data": {
      "text/plain": [
       "0.9460328420055449"
      ]
     },
     "execution_count": 24,
     "metadata": {},
     "output_type": "execute_result"
    }
   ],
   "source": [
    "wilson_lower_bound(100, 1)"
   ]
  },
  {
   "cell_type": "markdown",
   "id": "b78df8d3",
   "metadata": {
    "papermill": {
     "duration": 0.008875,
     "end_time": "2023-06-19T09:33:56.532737",
     "exception": false,
     "start_time": "2023-06-19T09:33:56.523862",
     "status": "completed"
    },
    "tags": []
   },
   "source": [
    "# Case Study"
   ]
  },
  {
   "cell_type": "code",
   "execution_count": 25,
   "id": "4c234184",
   "metadata": {
    "execution": {
     "iopub.execute_input": "2023-06-19T09:33:56.553526Z",
     "iopub.status.busy": "2023-06-19T09:33:56.552885Z",
     "iopub.status.idle": "2023-06-19T09:33:56.563810Z",
     "shell.execute_reply": "2023-06-19T09:33:56.562778Z"
    },
    "papermill": {
     "duration": 0.0242,
     "end_time": "2023-06-19T09:33:56.566405",
     "exception": false,
     "start_time": "2023-06-19T09:33:56.542205",
     "status": "completed"
    },
    "tags": []
   },
   "outputs": [],
   "source": [
    "up = [15, 70, 14, 4, 2, 5, 8, 37, 21, 52, 28, 147, 61, 30, 23, 40, 37, 61, 54, 18, 12, 68]\n",
    "down = [0, 2, 2, 2, 15, 2, 6, 5, 23, 8, 12, 2, 1, 1, 5, 1, 2, 6, 2, 0, 2, 2]\n",
    "comments = pd.DataFrame({\"up\": up, \"down\": down})"
   ]
  },
  {
   "cell_type": "code",
   "execution_count": 26,
   "id": "51e307ea",
   "metadata": {
    "execution": {
     "iopub.execute_input": "2023-06-19T09:33:56.585915Z",
     "iopub.status.busy": "2023-06-19T09:33:56.585585Z",
     "iopub.status.idle": "2023-06-19T09:33:56.610868Z",
     "shell.execute_reply": "2023-06-19T09:33:56.610263Z"
    },
    "papermill": {
     "duration": 0.037452,
     "end_time": "2023-06-19T09:33:56.613066",
     "exception": false,
     "start_time": "2023-06-19T09:33:56.575614",
     "status": "completed"
    },
    "tags": []
   },
   "outputs": [
    {
     "data": {
      "text/html": [
       "<div>\n",
       "<style scoped>\n",
       "    .dataframe tbody tr th:only-of-type {\n",
       "        vertical-align: middle;\n",
       "    }\n",
       "\n",
       "    .dataframe tbody tr th {\n",
       "        vertical-align: top;\n",
       "    }\n",
       "\n",
       "    .dataframe thead th {\n",
       "        text-align: right;\n",
       "    }\n",
       "</style>\n",
       "<table border=\"1\" class=\"dataframe\">\n",
       "  <thead>\n",
       "    <tr style=\"text-align: right;\">\n",
       "      <th></th>\n",
       "      <th>up</th>\n",
       "      <th>down</th>\n",
       "    </tr>\n",
       "  </thead>\n",
       "  <tbody>\n",
       "    <tr>\n",
       "      <th>0</th>\n",
       "      <td>15</td>\n",
       "      <td>0</td>\n",
       "    </tr>\n",
       "    <tr>\n",
       "      <th>1</th>\n",
       "      <td>70</td>\n",
       "      <td>2</td>\n",
       "    </tr>\n",
       "    <tr>\n",
       "      <th>2</th>\n",
       "      <td>14</td>\n",
       "      <td>2</td>\n",
       "    </tr>\n",
       "    <tr>\n",
       "      <th>3</th>\n",
       "      <td>4</td>\n",
       "      <td>2</td>\n",
       "    </tr>\n",
       "    <tr>\n",
       "      <th>4</th>\n",
       "      <td>2</td>\n",
       "      <td>15</td>\n",
       "    </tr>\n",
       "    <tr>\n",
       "      <th>5</th>\n",
       "      <td>5</td>\n",
       "      <td>2</td>\n",
       "    </tr>\n",
       "    <tr>\n",
       "      <th>6</th>\n",
       "      <td>8</td>\n",
       "      <td>6</td>\n",
       "    </tr>\n",
       "    <tr>\n",
       "      <th>7</th>\n",
       "      <td>37</td>\n",
       "      <td>5</td>\n",
       "    </tr>\n",
       "    <tr>\n",
       "      <th>8</th>\n",
       "      <td>21</td>\n",
       "      <td>23</td>\n",
       "    </tr>\n",
       "    <tr>\n",
       "      <th>9</th>\n",
       "      <td>52</td>\n",
       "      <td>8</td>\n",
       "    </tr>\n",
       "    <tr>\n",
       "      <th>10</th>\n",
       "      <td>28</td>\n",
       "      <td>12</td>\n",
       "    </tr>\n",
       "    <tr>\n",
       "      <th>11</th>\n",
       "      <td>147</td>\n",
       "      <td>2</td>\n",
       "    </tr>\n",
       "    <tr>\n",
       "      <th>12</th>\n",
       "      <td>61</td>\n",
       "      <td>1</td>\n",
       "    </tr>\n",
       "    <tr>\n",
       "      <th>13</th>\n",
       "      <td>30</td>\n",
       "      <td>1</td>\n",
       "    </tr>\n",
       "    <tr>\n",
       "      <th>14</th>\n",
       "      <td>23</td>\n",
       "      <td>5</td>\n",
       "    </tr>\n",
       "    <tr>\n",
       "      <th>15</th>\n",
       "      <td>40</td>\n",
       "      <td>1</td>\n",
       "    </tr>\n",
       "    <tr>\n",
       "      <th>16</th>\n",
       "      <td>37</td>\n",
       "      <td>2</td>\n",
       "    </tr>\n",
       "    <tr>\n",
       "      <th>17</th>\n",
       "      <td>61</td>\n",
       "      <td>6</td>\n",
       "    </tr>\n",
       "    <tr>\n",
       "      <th>18</th>\n",
       "      <td>54</td>\n",
       "      <td>2</td>\n",
       "    </tr>\n",
       "    <tr>\n",
       "      <th>19</th>\n",
       "      <td>18</td>\n",
       "      <td>0</td>\n",
       "    </tr>\n",
       "    <tr>\n",
       "      <th>20</th>\n",
       "      <td>12</td>\n",
       "      <td>2</td>\n",
       "    </tr>\n",
       "    <tr>\n",
       "      <th>21</th>\n",
       "      <td>68</td>\n",
       "      <td>2</td>\n",
       "    </tr>\n",
       "  </tbody>\n",
       "</table>\n",
       "</div>"
      ],
      "text/plain": [
       "     up  down\n",
       "0    15     0\n",
       "1    70     2\n",
       "2    14     2\n",
       "3     4     2\n",
       "4     2    15\n",
       "5     5     2\n",
       "6     8     6\n",
       "7    37     5\n",
       "8    21    23\n",
       "9    52     8\n",
       "10   28    12\n",
       "11  147     2\n",
       "12   61     1\n",
       "13   30     1\n",
       "14   23     5\n",
       "15   40     1\n",
       "16   37     2\n",
       "17   61     6\n",
       "18   54     2\n",
       "19   18     0\n",
       "20   12     2\n",
       "21   68     2"
      ]
     },
     "execution_count": 26,
     "metadata": {},
     "output_type": "execute_result"
    }
   ],
   "source": [
    "comments"
   ]
  },
  {
   "cell_type": "markdown",
   "id": "664b78bd",
   "metadata": {
    "papermill": {
     "duration": 0.009143,
     "end_time": "2023-06-19T09:33:56.631638",
     "exception": false,
     "start_time": "2023-06-19T09:33:56.622495",
     "status": "completed"
    },
    "tags": []
   },
   "source": [
    "# score_pos_neg_diff"
   ]
  },
  {
   "cell_type": "code",
   "execution_count": 27,
   "id": "0ec44421",
   "metadata": {
    "execution": {
     "iopub.execute_input": "2023-06-19T09:33:56.652497Z",
     "iopub.status.busy": "2023-06-19T09:33:56.652092Z",
     "iopub.status.idle": "2023-06-19T09:33:56.662124Z",
     "shell.execute_reply": "2023-06-19T09:33:56.660882Z"
    },
    "papermill": {
     "duration": 0.023342,
     "end_time": "2023-06-19T09:33:56.664562",
     "exception": false,
     "start_time": "2023-06-19T09:33:56.641220",
     "status": "completed"
    },
    "tags": []
   },
   "outputs": [],
   "source": [
    "comments[\"score_pos_neg_diff\"] = comments.apply(lambda x: score_up_down_diff(x[\"up\"],\n",
    "                                                                             x[\"down\"]), axis=1)"
   ]
  },
  {
   "cell_type": "code",
   "execution_count": 28,
   "id": "5c407d4c",
   "metadata": {
    "execution": {
     "iopub.execute_input": "2023-06-19T09:33:56.685312Z",
     "iopub.status.busy": "2023-06-19T09:33:56.684317Z",
     "iopub.status.idle": "2023-06-19T09:33:56.695246Z",
     "shell.execute_reply": "2023-06-19T09:33:56.694001Z"
    },
    "papermill": {
     "duration": 0.023799,
     "end_time": "2023-06-19T09:33:56.697731",
     "exception": false,
     "start_time": "2023-06-19T09:33:56.673932",
     "status": "completed"
    },
    "tags": []
   },
   "outputs": [
    {
     "data": {
      "text/html": [
       "<div>\n",
       "<style scoped>\n",
       "    .dataframe tbody tr th:only-of-type {\n",
       "        vertical-align: middle;\n",
       "    }\n",
       "\n",
       "    .dataframe tbody tr th {\n",
       "        vertical-align: top;\n",
       "    }\n",
       "\n",
       "    .dataframe thead th {\n",
       "        text-align: right;\n",
       "    }\n",
       "</style>\n",
       "<table border=\"1\" class=\"dataframe\">\n",
       "  <thead>\n",
       "    <tr style=\"text-align: right;\">\n",
       "      <th></th>\n",
       "      <th>up</th>\n",
       "      <th>down</th>\n",
       "      <th>score_pos_neg_diff</th>\n",
       "    </tr>\n",
       "  </thead>\n",
       "  <tbody>\n",
       "    <tr>\n",
       "      <th>0</th>\n",
       "      <td>15</td>\n",
       "      <td>0</td>\n",
       "      <td>15</td>\n",
       "    </tr>\n",
       "    <tr>\n",
       "      <th>1</th>\n",
       "      <td>70</td>\n",
       "      <td>2</td>\n",
       "      <td>68</td>\n",
       "    </tr>\n",
       "    <tr>\n",
       "      <th>2</th>\n",
       "      <td>14</td>\n",
       "      <td>2</td>\n",
       "      <td>12</td>\n",
       "    </tr>\n",
       "    <tr>\n",
       "      <th>3</th>\n",
       "      <td>4</td>\n",
       "      <td>2</td>\n",
       "      <td>2</td>\n",
       "    </tr>\n",
       "    <tr>\n",
       "      <th>4</th>\n",
       "      <td>2</td>\n",
       "      <td>15</td>\n",
       "      <td>-13</td>\n",
       "    </tr>\n",
       "    <tr>\n",
       "      <th>5</th>\n",
       "      <td>5</td>\n",
       "      <td>2</td>\n",
       "      <td>3</td>\n",
       "    </tr>\n",
       "    <tr>\n",
       "      <th>6</th>\n",
       "      <td>8</td>\n",
       "      <td>6</td>\n",
       "      <td>2</td>\n",
       "    </tr>\n",
       "    <tr>\n",
       "      <th>7</th>\n",
       "      <td>37</td>\n",
       "      <td>5</td>\n",
       "      <td>32</td>\n",
       "    </tr>\n",
       "    <tr>\n",
       "      <th>8</th>\n",
       "      <td>21</td>\n",
       "      <td>23</td>\n",
       "      <td>-2</td>\n",
       "    </tr>\n",
       "    <tr>\n",
       "      <th>9</th>\n",
       "      <td>52</td>\n",
       "      <td>8</td>\n",
       "      <td>44</td>\n",
       "    </tr>\n",
       "    <tr>\n",
       "      <th>10</th>\n",
       "      <td>28</td>\n",
       "      <td>12</td>\n",
       "      <td>16</td>\n",
       "    </tr>\n",
       "    <tr>\n",
       "      <th>11</th>\n",
       "      <td>147</td>\n",
       "      <td>2</td>\n",
       "      <td>145</td>\n",
       "    </tr>\n",
       "    <tr>\n",
       "      <th>12</th>\n",
       "      <td>61</td>\n",
       "      <td>1</td>\n",
       "      <td>60</td>\n",
       "    </tr>\n",
       "    <tr>\n",
       "      <th>13</th>\n",
       "      <td>30</td>\n",
       "      <td>1</td>\n",
       "      <td>29</td>\n",
       "    </tr>\n",
       "    <tr>\n",
       "      <th>14</th>\n",
       "      <td>23</td>\n",
       "      <td>5</td>\n",
       "      <td>18</td>\n",
       "    </tr>\n",
       "    <tr>\n",
       "      <th>15</th>\n",
       "      <td>40</td>\n",
       "      <td>1</td>\n",
       "      <td>39</td>\n",
       "    </tr>\n",
       "    <tr>\n",
       "      <th>16</th>\n",
       "      <td>37</td>\n",
       "      <td>2</td>\n",
       "      <td>35</td>\n",
       "    </tr>\n",
       "    <tr>\n",
       "      <th>17</th>\n",
       "      <td>61</td>\n",
       "      <td>6</td>\n",
       "      <td>55</td>\n",
       "    </tr>\n",
       "    <tr>\n",
       "      <th>18</th>\n",
       "      <td>54</td>\n",
       "      <td>2</td>\n",
       "      <td>52</td>\n",
       "    </tr>\n",
       "    <tr>\n",
       "      <th>19</th>\n",
       "      <td>18</td>\n",
       "      <td>0</td>\n",
       "      <td>18</td>\n",
       "    </tr>\n",
       "    <tr>\n",
       "      <th>20</th>\n",
       "      <td>12</td>\n",
       "      <td>2</td>\n",
       "      <td>10</td>\n",
       "    </tr>\n",
       "    <tr>\n",
       "      <th>21</th>\n",
       "      <td>68</td>\n",
       "      <td>2</td>\n",
       "      <td>66</td>\n",
       "    </tr>\n",
       "  </tbody>\n",
       "</table>\n",
       "</div>"
      ],
      "text/plain": [
       "     up  down  score_pos_neg_diff\n",
       "0    15     0                  15\n",
       "1    70     2                  68\n",
       "2    14     2                  12\n",
       "3     4     2                   2\n",
       "4     2    15                 -13\n",
       "5     5     2                   3\n",
       "6     8     6                   2\n",
       "7    37     5                  32\n",
       "8    21    23                  -2\n",
       "9    52     8                  44\n",
       "10   28    12                  16\n",
       "11  147     2                 145\n",
       "12   61     1                  60\n",
       "13   30     1                  29\n",
       "14   23     5                  18\n",
       "15   40     1                  39\n",
       "16   37     2                  35\n",
       "17   61     6                  55\n",
       "18   54     2                  52\n",
       "19   18     0                  18\n",
       "20   12     2                  10\n",
       "21   68     2                  66"
      ]
     },
     "execution_count": 28,
     "metadata": {},
     "output_type": "execute_result"
    }
   ],
   "source": [
    "comments"
   ]
  },
  {
   "cell_type": "markdown",
   "id": "308fadd8",
   "metadata": {
    "papermill": {
     "duration": 0.009631,
     "end_time": "2023-06-19T09:33:56.717788",
     "exception": false,
     "start_time": "2023-06-19T09:33:56.708157",
     "status": "completed"
    },
    "tags": []
   },
   "source": [
    "# score_average_rating"
   ]
  },
  {
   "cell_type": "code",
   "execution_count": 29,
   "id": "44c1cc87",
   "metadata": {
    "execution": {
     "iopub.execute_input": "2023-06-19T09:33:56.739318Z",
     "iopub.status.busy": "2023-06-19T09:33:56.738937Z",
     "iopub.status.idle": "2023-06-19T09:33:56.747133Z",
     "shell.execute_reply": "2023-06-19T09:33:56.746180Z"
    },
    "papermill": {
     "duration": 0.022004,
     "end_time": "2023-06-19T09:33:56.749513",
     "exception": false,
     "start_time": "2023-06-19T09:33:56.727509",
     "status": "completed"
    },
    "tags": []
   },
   "outputs": [],
   "source": [
    "comments[\"score_average_rating\"] = comments.apply(lambda x: score_average_rating(x[\"up\"], x[\"down\"]), axis=1)"
   ]
  },
  {
   "cell_type": "code",
   "execution_count": 30,
   "id": "f43dcc83",
   "metadata": {
    "execution": {
     "iopub.execute_input": "2023-06-19T09:33:56.769817Z",
     "iopub.status.busy": "2023-06-19T09:33:56.769452Z",
     "iopub.status.idle": "2023-06-19T09:33:56.779949Z",
     "shell.execute_reply": "2023-06-19T09:33:56.779160Z"
    },
    "papermill": {
     "duration": 0.022983,
     "end_time": "2023-06-19T09:33:56.782137",
     "exception": false,
     "start_time": "2023-06-19T09:33:56.759154",
     "status": "completed"
    },
    "tags": []
   },
   "outputs": [
    {
     "data": {
      "text/html": [
       "<div>\n",
       "<style scoped>\n",
       "    .dataframe tbody tr th:only-of-type {\n",
       "        vertical-align: middle;\n",
       "    }\n",
       "\n",
       "    .dataframe tbody tr th {\n",
       "        vertical-align: top;\n",
       "    }\n",
       "\n",
       "    .dataframe thead th {\n",
       "        text-align: right;\n",
       "    }\n",
       "</style>\n",
       "<table border=\"1\" class=\"dataframe\">\n",
       "  <thead>\n",
       "    <tr style=\"text-align: right;\">\n",
       "      <th></th>\n",
       "      <th>up</th>\n",
       "      <th>down</th>\n",
       "      <th>score_pos_neg_diff</th>\n",
       "      <th>score_average_rating</th>\n",
       "    </tr>\n",
       "  </thead>\n",
       "  <tbody>\n",
       "    <tr>\n",
       "      <th>0</th>\n",
       "      <td>15</td>\n",
       "      <td>0</td>\n",
       "      <td>15</td>\n",
       "      <td>1.00000</td>\n",
       "    </tr>\n",
       "    <tr>\n",
       "      <th>1</th>\n",
       "      <td>70</td>\n",
       "      <td>2</td>\n",
       "      <td>68</td>\n",
       "      <td>0.97222</td>\n",
       "    </tr>\n",
       "    <tr>\n",
       "      <th>2</th>\n",
       "      <td>14</td>\n",
       "      <td>2</td>\n",
       "      <td>12</td>\n",
       "      <td>0.87500</td>\n",
       "    </tr>\n",
       "    <tr>\n",
       "      <th>3</th>\n",
       "      <td>4</td>\n",
       "      <td>2</td>\n",
       "      <td>2</td>\n",
       "      <td>0.66667</td>\n",
       "    </tr>\n",
       "    <tr>\n",
       "      <th>4</th>\n",
       "      <td>2</td>\n",
       "      <td>15</td>\n",
       "      <td>-13</td>\n",
       "      <td>0.11765</td>\n",
       "    </tr>\n",
       "    <tr>\n",
       "      <th>5</th>\n",
       "      <td>5</td>\n",
       "      <td>2</td>\n",
       "      <td>3</td>\n",
       "      <td>0.71429</td>\n",
       "    </tr>\n",
       "    <tr>\n",
       "      <th>6</th>\n",
       "      <td>8</td>\n",
       "      <td>6</td>\n",
       "      <td>2</td>\n",
       "      <td>0.57143</td>\n",
       "    </tr>\n",
       "    <tr>\n",
       "      <th>7</th>\n",
       "      <td>37</td>\n",
       "      <td>5</td>\n",
       "      <td>32</td>\n",
       "      <td>0.88095</td>\n",
       "    </tr>\n",
       "    <tr>\n",
       "      <th>8</th>\n",
       "      <td>21</td>\n",
       "      <td>23</td>\n",
       "      <td>-2</td>\n",
       "      <td>0.47727</td>\n",
       "    </tr>\n",
       "    <tr>\n",
       "      <th>9</th>\n",
       "      <td>52</td>\n",
       "      <td>8</td>\n",
       "      <td>44</td>\n",
       "      <td>0.86667</td>\n",
       "    </tr>\n",
       "    <tr>\n",
       "      <th>10</th>\n",
       "      <td>28</td>\n",
       "      <td>12</td>\n",
       "      <td>16</td>\n",
       "      <td>0.70000</td>\n",
       "    </tr>\n",
       "    <tr>\n",
       "      <th>11</th>\n",
       "      <td>147</td>\n",
       "      <td>2</td>\n",
       "      <td>145</td>\n",
       "      <td>0.98658</td>\n",
       "    </tr>\n",
       "    <tr>\n",
       "      <th>12</th>\n",
       "      <td>61</td>\n",
       "      <td>1</td>\n",
       "      <td>60</td>\n",
       "      <td>0.98387</td>\n",
       "    </tr>\n",
       "    <tr>\n",
       "      <th>13</th>\n",
       "      <td>30</td>\n",
       "      <td>1</td>\n",
       "      <td>29</td>\n",
       "      <td>0.96774</td>\n",
       "    </tr>\n",
       "    <tr>\n",
       "      <th>14</th>\n",
       "      <td>23</td>\n",
       "      <td>5</td>\n",
       "      <td>18</td>\n",
       "      <td>0.82143</td>\n",
       "    </tr>\n",
       "    <tr>\n",
       "      <th>15</th>\n",
       "      <td>40</td>\n",
       "      <td>1</td>\n",
       "      <td>39</td>\n",
       "      <td>0.97561</td>\n",
       "    </tr>\n",
       "    <tr>\n",
       "      <th>16</th>\n",
       "      <td>37</td>\n",
       "      <td>2</td>\n",
       "      <td>35</td>\n",
       "      <td>0.94872</td>\n",
       "    </tr>\n",
       "    <tr>\n",
       "      <th>17</th>\n",
       "      <td>61</td>\n",
       "      <td>6</td>\n",
       "      <td>55</td>\n",
       "      <td>0.91045</td>\n",
       "    </tr>\n",
       "    <tr>\n",
       "      <th>18</th>\n",
       "      <td>54</td>\n",
       "      <td>2</td>\n",
       "      <td>52</td>\n",
       "      <td>0.96429</td>\n",
       "    </tr>\n",
       "    <tr>\n",
       "      <th>19</th>\n",
       "      <td>18</td>\n",
       "      <td>0</td>\n",
       "      <td>18</td>\n",
       "      <td>1.00000</td>\n",
       "    </tr>\n",
       "    <tr>\n",
       "      <th>20</th>\n",
       "      <td>12</td>\n",
       "      <td>2</td>\n",
       "      <td>10</td>\n",
       "      <td>0.85714</td>\n",
       "    </tr>\n",
       "    <tr>\n",
       "      <th>21</th>\n",
       "      <td>68</td>\n",
       "      <td>2</td>\n",
       "      <td>66</td>\n",
       "      <td>0.97143</td>\n",
       "    </tr>\n",
       "  </tbody>\n",
       "</table>\n",
       "</div>"
      ],
      "text/plain": [
       "     up  down  score_pos_neg_diff  score_average_rating\n",
       "0    15     0                  15               1.00000\n",
       "1    70     2                  68               0.97222\n",
       "2    14     2                  12               0.87500\n",
       "3     4     2                   2               0.66667\n",
       "4     2    15                 -13               0.11765\n",
       "5     5     2                   3               0.71429\n",
       "6     8     6                   2               0.57143\n",
       "7    37     5                  32               0.88095\n",
       "8    21    23                  -2               0.47727\n",
       "9    52     8                  44               0.86667\n",
       "10   28    12                  16               0.70000\n",
       "11  147     2                 145               0.98658\n",
       "12   61     1                  60               0.98387\n",
       "13   30     1                  29               0.96774\n",
       "14   23     5                  18               0.82143\n",
       "15   40     1                  39               0.97561\n",
       "16   37     2                  35               0.94872\n",
       "17   61     6                  55               0.91045\n",
       "18   54     2                  52               0.96429\n",
       "19   18     0                  18               1.00000\n",
       "20   12     2                  10               0.85714\n",
       "21   68     2                  66               0.97143"
      ]
     },
     "execution_count": 30,
     "metadata": {},
     "output_type": "execute_result"
    }
   ],
   "source": [
    "comments"
   ]
  },
  {
   "cell_type": "markdown",
   "id": "ccc6436b",
   "metadata": {
    "papermill": {
     "duration": 0.009344,
     "end_time": "2023-06-19T09:33:56.801148",
     "exception": false,
     "start_time": "2023-06-19T09:33:56.791804",
     "status": "completed"
    },
    "tags": []
   },
   "source": [
    "# wilson_lower_bound"
   ]
  },
  {
   "cell_type": "code",
   "execution_count": 31,
   "id": "05451775",
   "metadata": {
    "execution": {
     "iopub.execute_input": "2023-06-19T09:33:56.822442Z",
     "iopub.status.busy": "2023-06-19T09:33:56.822015Z",
     "iopub.status.idle": "2023-06-19T09:33:56.831677Z",
     "shell.execute_reply": "2023-06-19T09:33:56.830411Z"
    },
    "papermill": {
     "duration": 0.022643,
     "end_time": "2023-06-19T09:33:56.833915",
     "exception": false,
     "start_time": "2023-06-19T09:33:56.811272",
     "status": "completed"
    },
    "tags": []
   },
   "outputs": [],
   "source": [
    "comments[\"wilson_lower_bound\"] = comments.apply(lambda x: wilson_lower_bound(x[\"up\"], x[\"down\"]), axis=1)"
   ]
  },
  {
   "cell_type": "code",
   "execution_count": 32,
   "id": "83fd554f",
   "metadata": {
    "execution": {
     "iopub.execute_input": "2023-06-19T09:33:56.855969Z",
     "iopub.status.busy": "2023-06-19T09:33:56.854818Z",
     "iopub.status.idle": "2023-06-19T09:33:56.866448Z",
     "shell.execute_reply": "2023-06-19T09:33:56.865343Z"
    },
    "papermill": {
     "duration": 0.024812,
     "end_time": "2023-06-19T09:33:56.868714",
     "exception": false,
     "start_time": "2023-06-19T09:33:56.843902",
     "status": "completed"
    },
    "tags": []
   },
   "outputs": [
    {
     "data": {
      "text/html": [
       "<div>\n",
       "<style scoped>\n",
       "    .dataframe tbody tr th:only-of-type {\n",
       "        vertical-align: middle;\n",
       "    }\n",
       "\n",
       "    .dataframe tbody tr th {\n",
       "        vertical-align: top;\n",
       "    }\n",
       "\n",
       "    .dataframe thead th {\n",
       "        text-align: right;\n",
       "    }\n",
       "</style>\n",
       "<table border=\"1\" class=\"dataframe\">\n",
       "  <thead>\n",
       "    <tr style=\"text-align: right;\">\n",
       "      <th></th>\n",
       "      <th>up</th>\n",
       "      <th>down</th>\n",
       "      <th>score_pos_neg_diff</th>\n",
       "      <th>score_average_rating</th>\n",
       "      <th>wilson_lower_bound</th>\n",
       "    </tr>\n",
       "  </thead>\n",
       "  <tbody>\n",
       "    <tr>\n",
       "      <th>0</th>\n",
       "      <td>15</td>\n",
       "      <td>0</td>\n",
       "      <td>15</td>\n",
       "      <td>1.00000</td>\n",
       "      <td>0.79612</td>\n",
       "    </tr>\n",
       "    <tr>\n",
       "      <th>1</th>\n",
       "      <td>70</td>\n",
       "      <td>2</td>\n",
       "      <td>68</td>\n",
       "      <td>0.97222</td>\n",
       "      <td>0.90426</td>\n",
       "    </tr>\n",
       "    <tr>\n",
       "      <th>2</th>\n",
       "      <td>14</td>\n",
       "      <td>2</td>\n",
       "      <td>12</td>\n",
       "      <td>0.87500</td>\n",
       "      <td>0.63977</td>\n",
       "    </tr>\n",
       "    <tr>\n",
       "      <th>3</th>\n",
       "      <td>4</td>\n",
       "      <td>2</td>\n",
       "      <td>2</td>\n",
       "      <td>0.66667</td>\n",
       "      <td>0.29999</td>\n",
       "    </tr>\n",
       "    <tr>\n",
       "      <th>4</th>\n",
       "      <td>2</td>\n",
       "      <td>15</td>\n",
       "      <td>-13</td>\n",
       "      <td>0.11765</td>\n",
       "      <td>0.03288</td>\n",
       "    </tr>\n",
       "    <tr>\n",
       "      <th>5</th>\n",
       "      <td>5</td>\n",
       "      <td>2</td>\n",
       "      <td>3</td>\n",
       "      <td>0.71429</td>\n",
       "      <td>0.35893</td>\n",
       "    </tr>\n",
       "    <tr>\n",
       "      <th>6</th>\n",
       "      <td>8</td>\n",
       "      <td>6</td>\n",
       "      <td>2</td>\n",
       "      <td>0.57143</td>\n",
       "      <td>0.32591</td>\n",
       "    </tr>\n",
       "    <tr>\n",
       "      <th>7</th>\n",
       "      <td>37</td>\n",
       "      <td>5</td>\n",
       "      <td>32</td>\n",
       "      <td>0.88095</td>\n",
       "      <td>0.75000</td>\n",
       "    </tr>\n",
       "    <tr>\n",
       "      <th>8</th>\n",
       "      <td>21</td>\n",
       "      <td>23</td>\n",
       "      <td>-2</td>\n",
       "      <td>0.47727</td>\n",
       "      <td>0.33755</td>\n",
       "    </tr>\n",
       "    <tr>\n",
       "      <th>9</th>\n",
       "      <td>52</td>\n",
       "      <td>8</td>\n",
       "      <td>44</td>\n",
       "      <td>0.86667</td>\n",
       "      <td>0.75835</td>\n",
       "    </tr>\n",
       "    <tr>\n",
       "      <th>10</th>\n",
       "      <td>28</td>\n",
       "      <td>12</td>\n",
       "      <td>16</td>\n",
       "      <td>0.70000</td>\n",
       "      <td>0.54570</td>\n",
       "    </tr>\n",
       "    <tr>\n",
       "      <th>11</th>\n",
       "      <td>147</td>\n",
       "      <td>2</td>\n",
       "      <td>145</td>\n",
       "      <td>0.98658</td>\n",
       "      <td>0.95238</td>\n",
       "    </tr>\n",
       "    <tr>\n",
       "      <th>12</th>\n",
       "      <td>61</td>\n",
       "      <td>1</td>\n",
       "      <td>60</td>\n",
       "      <td>0.98387</td>\n",
       "      <td>0.91413</td>\n",
       "    </tr>\n",
       "    <tr>\n",
       "      <th>13</th>\n",
       "      <td>30</td>\n",
       "      <td>1</td>\n",
       "      <td>29</td>\n",
       "      <td>0.96774</td>\n",
       "      <td>0.83806</td>\n",
       "    </tr>\n",
       "    <tr>\n",
       "      <th>14</th>\n",
       "      <td>23</td>\n",
       "      <td>5</td>\n",
       "      <td>18</td>\n",
       "      <td>0.82143</td>\n",
       "      <td>0.64409</td>\n",
       "    </tr>\n",
       "    <tr>\n",
       "      <th>15</th>\n",
       "      <td>40</td>\n",
       "      <td>1</td>\n",
       "      <td>39</td>\n",
       "      <td>0.97561</td>\n",
       "      <td>0.87405</td>\n",
       "    </tr>\n",
       "    <tr>\n",
       "      <th>16</th>\n",
       "      <td>37</td>\n",
       "      <td>2</td>\n",
       "      <td>35</td>\n",
       "      <td>0.94872</td>\n",
       "      <td>0.83114</td>\n",
       "    </tr>\n",
       "    <tr>\n",
       "      <th>17</th>\n",
       "      <td>61</td>\n",
       "      <td>6</td>\n",
       "      <td>55</td>\n",
       "      <td>0.91045</td>\n",
       "      <td>0.81807</td>\n",
       "    </tr>\n",
       "    <tr>\n",
       "      <th>18</th>\n",
       "      <td>54</td>\n",
       "      <td>2</td>\n",
       "      <td>52</td>\n",
       "      <td>0.96429</td>\n",
       "      <td>0.87881</td>\n",
       "    </tr>\n",
       "    <tr>\n",
       "      <th>19</th>\n",
       "      <td>18</td>\n",
       "      <td>0</td>\n",
       "      <td>18</td>\n",
       "      <td>1.00000</td>\n",
       "      <td>0.82412</td>\n",
       "    </tr>\n",
       "    <tr>\n",
       "      <th>20</th>\n",
       "      <td>12</td>\n",
       "      <td>2</td>\n",
       "      <td>10</td>\n",
       "      <td>0.85714</td>\n",
       "      <td>0.60059</td>\n",
       "    </tr>\n",
       "    <tr>\n",
       "      <th>21</th>\n",
       "      <td>68</td>\n",
       "      <td>2</td>\n",
       "      <td>66</td>\n",
       "      <td>0.97143</td>\n",
       "      <td>0.90168</td>\n",
       "    </tr>\n",
       "  </tbody>\n",
       "</table>\n",
       "</div>"
      ],
      "text/plain": [
       "     up  down  score_pos_neg_diff  score_average_rating  wilson_lower_bound\n",
       "0    15     0                  15               1.00000             0.79612\n",
       "1    70     2                  68               0.97222             0.90426\n",
       "2    14     2                  12               0.87500             0.63977\n",
       "3     4     2                   2               0.66667             0.29999\n",
       "4     2    15                 -13               0.11765             0.03288\n",
       "5     5     2                   3               0.71429             0.35893\n",
       "6     8     6                   2               0.57143             0.32591\n",
       "7    37     5                  32               0.88095             0.75000\n",
       "8    21    23                  -2               0.47727             0.33755\n",
       "9    52     8                  44               0.86667             0.75835\n",
       "10   28    12                  16               0.70000             0.54570\n",
       "11  147     2                 145               0.98658             0.95238\n",
       "12   61     1                  60               0.98387             0.91413\n",
       "13   30     1                  29               0.96774             0.83806\n",
       "14   23     5                  18               0.82143             0.64409\n",
       "15   40     1                  39               0.97561             0.87405\n",
       "16   37     2                  35               0.94872             0.83114\n",
       "17   61     6                  55               0.91045             0.81807\n",
       "18   54     2                  52               0.96429             0.87881\n",
       "19   18     0                  18               1.00000             0.82412\n",
       "20   12     2                  10               0.85714             0.60059\n",
       "21   68     2                  66               0.97143             0.90168"
      ]
     },
     "execution_count": 32,
     "metadata": {},
     "output_type": "execute_result"
    }
   ],
   "source": [
    "comments"
   ]
  },
  {
   "cell_type": "code",
   "execution_count": 33,
   "id": "56323528",
   "metadata": {
    "execution": {
     "iopub.execute_input": "2023-06-19T09:33:56.890585Z",
     "iopub.status.busy": "2023-06-19T09:33:56.890246Z",
     "iopub.status.idle": "2023-06-19T09:33:56.905513Z",
     "shell.execute_reply": "2023-06-19T09:33:56.904493Z"
    },
    "papermill": {
     "duration": 0.028478,
     "end_time": "2023-06-19T09:33:56.907400",
     "exception": false,
     "start_time": "2023-06-19T09:33:56.878922",
     "status": "completed"
    },
    "tags": []
   },
   "outputs": [
    {
     "data": {
      "text/html": [
       "<div>\n",
       "<style scoped>\n",
       "    .dataframe tbody tr th:only-of-type {\n",
       "        vertical-align: middle;\n",
       "    }\n",
       "\n",
       "    .dataframe tbody tr th {\n",
       "        vertical-align: top;\n",
       "    }\n",
       "\n",
       "    .dataframe thead th {\n",
       "        text-align: right;\n",
       "    }\n",
       "</style>\n",
       "<table border=\"1\" class=\"dataframe\">\n",
       "  <thead>\n",
       "    <tr style=\"text-align: right;\">\n",
       "      <th></th>\n",
       "      <th>up</th>\n",
       "      <th>down</th>\n",
       "      <th>score_pos_neg_diff</th>\n",
       "      <th>score_average_rating</th>\n",
       "      <th>wilson_lower_bound</th>\n",
       "    </tr>\n",
       "  </thead>\n",
       "  <tbody>\n",
       "    <tr>\n",
       "      <th>11</th>\n",
       "      <td>147</td>\n",
       "      <td>2</td>\n",
       "      <td>145</td>\n",
       "      <td>0.98658</td>\n",
       "      <td>0.95238</td>\n",
       "    </tr>\n",
       "    <tr>\n",
       "      <th>12</th>\n",
       "      <td>61</td>\n",
       "      <td>1</td>\n",
       "      <td>60</td>\n",
       "      <td>0.98387</td>\n",
       "      <td>0.91413</td>\n",
       "    </tr>\n",
       "    <tr>\n",
       "      <th>1</th>\n",
       "      <td>70</td>\n",
       "      <td>2</td>\n",
       "      <td>68</td>\n",
       "      <td>0.97222</td>\n",
       "      <td>0.90426</td>\n",
       "    </tr>\n",
       "    <tr>\n",
       "      <th>21</th>\n",
       "      <td>68</td>\n",
       "      <td>2</td>\n",
       "      <td>66</td>\n",
       "      <td>0.97143</td>\n",
       "      <td>0.90168</td>\n",
       "    </tr>\n",
       "    <tr>\n",
       "      <th>18</th>\n",
       "      <td>54</td>\n",
       "      <td>2</td>\n",
       "      <td>52</td>\n",
       "      <td>0.96429</td>\n",
       "      <td>0.87881</td>\n",
       "    </tr>\n",
       "    <tr>\n",
       "      <th>15</th>\n",
       "      <td>40</td>\n",
       "      <td>1</td>\n",
       "      <td>39</td>\n",
       "      <td>0.97561</td>\n",
       "      <td>0.87405</td>\n",
       "    </tr>\n",
       "    <tr>\n",
       "      <th>13</th>\n",
       "      <td>30</td>\n",
       "      <td>1</td>\n",
       "      <td>29</td>\n",
       "      <td>0.96774</td>\n",
       "      <td>0.83806</td>\n",
       "    </tr>\n",
       "    <tr>\n",
       "      <th>16</th>\n",
       "      <td>37</td>\n",
       "      <td>2</td>\n",
       "      <td>35</td>\n",
       "      <td>0.94872</td>\n",
       "      <td>0.83114</td>\n",
       "    </tr>\n",
       "    <tr>\n",
       "      <th>19</th>\n",
       "      <td>18</td>\n",
       "      <td>0</td>\n",
       "      <td>18</td>\n",
       "      <td>1.00000</td>\n",
       "      <td>0.82412</td>\n",
       "    </tr>\n",
       "    <tr>\n",
       "      <th>17</th>\n",
       "      <td>61</td>\n",
       "      <td>6</td>\n",
       "      <td>55</td>\n",
       "      <td>0.91045</td>\n",
       "      <td>0.81807</td>\n",
       "    </tr>\n",
       "    <tr>\n",
       "      <th>0</th>\n",
       "      <td>15</td>\n",
       "      <td>0</td>\n",
       "      <td>15</td>\n",
       "      <td>1.00000</td>\n",
       "      <td>0.79612</td>\n",
       "    </tr>\n",
       "    <tr>\n",
       "      <th>9</th>\n",
       "      <td>52</td>\n",
       "      <td>8</td>\n",
       "      <td>44</td>\n",
       "      <td>0.86667</td>\n",
       "      <td>0.75835</td>\n",
       "    </tr>\n",
       "    <tr>\n",
       "      <th>7</th>\n",
       "      <td>37</td>\n",
       "      <td>5</td>\n",
       "      <td>32</td>\n",
       "      <td>0.88095</td>\n",
       "      <td>0.75000</td>\n",
       "    </tr>\n",
       "    <tr>\n",
       "      <th>14</th>\n",
       "      <td>23</td>\n",
       "      <td>5</td>\n",
       "      <td>18</td>\n",
       "      <td>0.82143</td>\n",
       "      <td>0.64409</td>\n",
       "    </tr>\n",
       "    <tr>\n",
       "      <th>2</th>\n",
       "      <td>14</td>\n",
       "      <td>2</td>\n",
       "      <td>12</td>\n",
       "      <td>0.87500</td>\n",
       "      <td>0.63977</td>\n",
       "    </tr>\n",
       "    <tr>\n",
       "      <th>20</th>\n",
       "      <td>12</td>\n",
       "      <td>2</td>\n",
       "      <td>10</td>\n",
       "      <td>0.85714</td>\n",
       "      <td>0.60059</td>\n",
       "    </tr>\n",
       "    <tr>\n",
       "      <th>10</th>\n",
       "      <td>28</td>\n",
       "      <td>12</td>\n",
       "      <td>16</td>\n",
       "      <td>0.70000</td>\n",
       "      <td>0.54570</td>\n",
       "    </tr>\n",
       "    <tr>\n",
       "      <th>5</th>\n",
       "      <td>5</td>\n",
       "      <td>2</td>\n",
       "      <td>3</td>\n",
       "      <td>0.71429</td>\n",
       "      <td>0.35893</td>\n",
       "    </tr>\n",
       "    <tr>\n",
       "      <th>8</th>\n",
       "      <td>21</td>\n",
       "      <td>23</td>\n",
       "      <td>-2</td>\n",
       "      <td>0.47727</td>\n",
       "      <td>0.33755</td>\n",
       "    </tr>\n",
       "    <tr>\n",
       "      <th>6</th>\n",
       "      <td>8</td>\n",
       "      <td>6</td>\n",
       "      <td>2</td>\n",
       "      <td>0.57143</td>\n",
       "      <td>0.32591</td>\n",
       "    </tr>\n",
       "    <tr>\n",
       "      <th>3</th>\n",
       "      <td>4</td>\n",
       "      <td>2</td>\n",
       "      <td>2</td>\n",
       "      <td>0.66667</td>\n",
       "      <td>0.29999</td>\n",
       "    </tr>\n",
       "    <tr>\n",
       "      <th>4</th>\n",
       "      <td>2</td>\n",
       "      <td>15</td>\n",
       "      <td>-13</td>\n",
       "      <td>0.11765</td>\n",
       "      <td>0.03288</td>\n",
       "    </tr>\n",
       "  </tbody>\n",
       "</table>\n",
       "</div>"
      ],
      "text/plain": [
       "     up  down  score_pos_neg_diff  score_average_rating  wilson_lower_bound\n",
       "11  147     2                 145               0.98658             0.95238\n",
       "12   61     1                  60               0.98387             0.91413\n",
       "1    70     2                  68               0.97222             0.90426\n",
       "21   68     2                  66               0.97143             0.90168\n",
       "18   54     2                  52               0.96429             0.87881\n",
       "15   40     1                  39               0.97561             0.87405\n",
       "13   30     1                  29               0.96774             0.83806\n",
       "16   37     2                  35               0.94872             0.83114\n",
       "19   18     0                  18               1.00000             0.82412\n",
       "17   61     6                  55               0.91045             0.81807\n",
       "0    15     0                  15               1.00000             0.79612\n",
       "9    52     8                  44               0.86667             0.75835\n",
       "7    37     5                  32               0.88095             0.75000\n",
       "14   23     5                  18               0.82143             0.64409\n",
       "2    14     2                  12               0.87500             0.63977\n",
       "20   12     2                  10               0.85714             0.60059\n",
       "10   28    12                  16               0.70000             0.54570\n",
       "5     5     2                   3               0.71429             0.35893\n",
       "8    21    23                  -2               0.47727             0.33755\n",
       "6     8     6                   2               0.57143             0.32591\n",
       "3     4     2                   2               0.66667             0.29999\n",
       "4     2    15                 -13               0.11765             0.03288"
      ]
     },
     "execution_count": 33,
     "metadata": {},
     "output_type": "execute_result"
    }
   ],
   "source": [
    "comments.sort_values(\"wilson_lower_bound\", ascending=False)"
   ]
  }
 ],
 "metadata": {
  "kernelspec": {
   "display_name": "Python 3",
   "language": "python",
   "name": "python3"
  },
  "language_info": {
   "codemirror_mode": {
    "name": "ipython",
    "version": 3
   },
   "file_extension": ".py",
   "mimetype": "text/x-python",
   "name": "python",
   "nbconvert_exporter": "python",
   "pygments_lexer": "ipython3",
   "version": "3.10.10"
  },
  "papermill": {
   "default_parameters": {},
   "duration": 12.442229,
   "end_time": "2023-06-19T09:33:57.839466",
   "environment_variables": {},
   "exception": null,
   "input_path": "__notebook__.ipynb",
   "output_path": "__notebook__.ipynb",
   "parameters": {},
   "start_time": "2023-06-19T09:33:45.397237",
   "version": "2.4.0"
  }
 },
 "nbformat": 4,
 "nbformat_minor": 5
}
